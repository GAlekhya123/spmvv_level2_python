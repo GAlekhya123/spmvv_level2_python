{
 "cells": [
  {
   "cell_type": "markdown",
   "metadata": {},
   "source": [
    "# Date : 16th sep 2019\n",
    "## Problem Solving With Python \n",
    "### Markdown\n",
    "#### Day Objectives:\n",
    "* Literate Programming\n",
    "* Jupyter Notebook Environment\n",
    "* Markdown format for documentation"
   ]
  },
  {
   "cell_type": "markdown",
   "metadata": {},
   "source": [
    "\n",
    "1. line1 \n",
    "2. line2\n",
    "3. line3\n",
    "1. ***italic***\n",
    "2. **bold**\n",
    "\n",
    "\n"
   ]
  },
  {
   "cell_type": "markdown",
   "metadata": {},
   "source": [
    "*italic*<br/>\n",
    "<strike>strikiking text</strike><br/>\n",
    "`highligting text`"
   ]
  },
  {
   "cell_type": "markdown",
   "metadata": {},
   "source": [
    "### latex  \n",
    "to write equations\n",
    "\n",
    " $x_{i} + y_{i}$\n",
    " \n",
    " \n",
    " $a^2$"
   ]
  },
  {
   "cell_type": "markdown",
   "metadata": {},
   "source": [
    "### Adding images"
   ]
  },
  {
   "cell_type": "markdown",
   "metadata": {},
   "source": [
    "<img src=\"data:image/png;base64,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\" width=\"100px\" height=\"100px\">"
   ]
  },
  {
   "cell_type": "markdown",
   "metadata": {},
   "source": []
  },
  {
   "cell_type": "markdown",
   "metadata": {},
   "source": [
    "## Oparators"
   ]
  },
  {
   "cell_type": "code",
   "execution_count": 4,
   "metadata": {},
   "outputs": [
    {
     "name": "stdout",
     "output_type": "stream",
     "text": [
      "2\n"
     ]
    },
    {
     "data": {
      "text/plain": [
       "31748"
      ]
     },
     "execution_count": 4,
     "metadata": {},
     "output_type": "execute_result"
    }
   ],
   "source": [
    "num1 = 2\n",
    "print(num1)\n",
    "num2 = 31748\n",
    "num2"
   ]
  },
  {
   "cell_type": "code",
   "execution_count": 10,
   "metadata": {},
   "outputs": [
    {
     "name": "stdout",
     "output_type": "stream",
     "text": [
      "Welcome to python\n"
     ]
    }
   ],
   "source": [
    "\"\"\" multiple line\n",
    "comments\n",
    "\"\"\" \n",
    "print('Welcome to python')  # single line comments\n",
    "a = 0"
   ]
  },
  {
   "cell_type": "markdown",
   "metadata": {},
   "source": [
    "### assignment operators\n",
    "`=`\n",
    "`+=`\n",
    "`-=`\n",
    "`*=`\n",
    "`/=`\n"
   ]
  },
  {
   "cell_type": "code",
   "execution_count": 14,
   "metadata": {},
   "outputs": [
    {
     "ename": "SyntaxError",
     "evalue": "invalid syntax (<ipython-input-14-3bcf3917f1d7>, line 3)",
     "output_type": "error",
     "traceback": [
      "\u001b[1;36m  File \u001b[1;32m\"<ipython-input-14-3bcf3917f1d7>\"\u001b[1;36m, line \u001b[1;32m3\u001b[0m\n\u001b[1;33m    a++ # we can't done this operation here\u001b[0m\n\u001b[1;37m                                           ^\u001b[0m\n\u001b[1;31mSyntaxError\u001b[0m\u001b[1;31m:\u001b[0m invalid syntax\n"
     ]
    }
   ],
   "source": [
    "# = \n",
    "a = 62\n",
    "a++ # we can't done this operation here"
   ]
  },
  {
   "cell_type": "code",
   "execution_count": 16,
   "metadata": {},
   "outputs": [
    {
     "data": {
      "text/plain": [
       "7"
      ]
     },
     "execution_count": 16,
     "metadata": {},
     "output_type": "execute_result"
    }
   ],
   "source": [
    "b = a+1\n",
    "b += 1\n",
    "b"
   ]
  },
  {
   "cell_type": "code",
   "execution_count": 22,
   "metadata": {},
   "outputs": [
    {
     "data": {
      "text/plain": [
       "1.0"
      ]
     },
     "execution_count": 22,
     "metadata": {},
     "output_type": "execute_result"
    }
   ],
   "source": [
    "b = 2\n",
    "b -= 1\n",
    "b *= 2\n",
    "b /= 2\n",
    "b"
   ]
  },
  {
   "cell_type": "markdown",
   "metadata": {},
   "source": [
    "### Relationl operators\n",
    "`<=` \n",
    "`>=`\n",
    "`==`\n",
    "`!=`"
   ]
  },
  {
   "cell_type": "code",
   "execution_count": 32,
   "metadata": {},
   "outputs": [],
   "source": [
    "s = 2 >= 89"
   ]
  },
  {
   "cell_type": "code",
   "execution_count": 33,
   "metadata": {},
   "outputs": [
    {
     "data": {
      "text/plain": [
       "bool"
      ]
     },
     "execution_count": 33,
     "metadata": {},
     "output_type": "execute_result"
    }
   ],
   "source": [
    "type(s)"
   ]
  },
  {
   "cell_type": "code",
   "execution_count": 34,
   "metadata": {},
   "outputs": [
    {
     "data": {
      "text/plain": [
       "True"
      ]
     },
     "execution_count": 34,
     "metadata": {},
     "output_type": "execute_result"
    }
   ],
   "source": [
    "23 != 8"
   ]
  },
  {
   "cell_type": "markdown",
   "metadata": {},
   "source": [
    "## Logical operators\n"
   ]
  },
  {
   "cell_type": "code",
   "execution_count": null,
   "metadata": {},
   "outputs": [],
   "source": []
  }
 ],
 "metadata": {
  "kernelspec": {
   "display_name": "Python 3",
   "language": "python",
   "name": "python3"
  },
  "language_info": {
   "codemirror_mode": {
    "name": "ipython",
    "version": 3
   },
   "file_extension": ".py",
   "mimetype": "text/x-python",
   "name": "python",
   "nbconvert_exporter": "python",
   "pygments_lexer": "ipython3",
   "version": "3.7.3"
  }
 },
 "nbformat": 4,
 "nbformat_minor": 2
}
