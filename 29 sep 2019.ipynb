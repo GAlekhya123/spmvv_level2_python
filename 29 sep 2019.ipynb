{
 "cells": [
  {
   "cell_type": "markdown",
   "metadata": {},
   "source": [
    "## File Handling\n",
    "- open\n",
    "- read\n",
    "- write\n",
    "- append\n",
    "- close"
   ]
  },
  {
   "cell_type": "markdown",
   "metadata": {},
   "source": [
    "- method1"
   ]
  },
  {
   "cell_type": "code",
   "execution_count": 2,
   "metadata": {},
   "outputs": [
    {
     "name": "stdout",
     "output_type": "stream",
     "text": [
      "Sri padmavtahi mahila visvavidayalayam\n",
      "Womens university\n",
      "tirupathi\n"
     ]
    }
   ],
   "source": [
    "f=open(\"sampledata.txt\",\"r\")#open the file\n",
    "data=f.read()# reading the data\n",
    "print(data)# printing the data\n",
    "f.close()# close the file"
   ]
  },
  {
   "cell_type": "markdown",
   "metadata": {},
   "source": [
    "- Method2"
   ]
  },
  {
   "cell_type": "code",
   "execution_count": 3,
   "metadata": {},
   "outputs": [
    {
     "name": "stdout",
     "output_type": "stream",
     "text": [
      "Sri padmavtahi mahila visvavidayalayam\n",
      "Womens university\n",
      "tirupathi\n"
     ]
    }
   ],
   "source": [
    "with open(\"sampledata.txt\",\"r\") as f:\n",
    "    data=f.read()\n",
    "    print(data)"
   ]
  },
  {
   "cell_type": "code",
   "execution_count": 4,
   "metadata": {},
   "outputs": [
    {
     "name": "stdout",
     "output_type": "stream",
     "text": [
      "sampledata.txt\n",
      "Sri padmavtahi mahila visvavidayalayam\n",
      "Womens university\n",
      "tirupathi\n"
     ]
    }
   ],
   "source": [
    "def readdata(filename):\n",
    "    f=open(filename,\"r\")\n",
    "    data=f.read()\n",
    "    print(data)\n",
    "    f.close()\n",
    "#filename=\"sampledata.txt\"\n",
    "readdata(input())"
   ]
  },
  {
   "cell_type": "code",
   "execution_count": 5,
   "metadata": {},
   "outputs": [],
   "source": [
    "def readdata(filename):\n",
    "    f=open(filename,\"r\")\n",
    "    data=f.read()\n",
    "    f.close()\n",
    "    return data\n"
   ]
  },
  {
   "cell_type": "code",
   "execution_count": 9,
   "metadata": {},
   "outputs": [
    {
     "name": "stdout",
     "output_type": "stream",
     "text": [
      "Sri padmavtahi mahila visvavidayalayam\n",
      "womens university\n",
      "tirupathi\n"
     ]
    }
   ],
   "source": [
    "print(readdata(\"sampledata.txt\").capitalize())"
   ]
  },
  {
   "cell_type": "code",
   "execution_count": 12,
   "metadata": {},
   "outputs": [
    {
     "name": "stdout",
     "output_type": "stream",
     "text": [
      "hii\n"
     ]
    }
   ],
   "source": [
    "with open(\"text.txt\",\"w\") as f:\n",
    "    f.write(input())"
   ]
  },
  {
   "cell_type": "code",
   "execution_count": 13,
   "metadata": {},
   "outputs": [
    {
     "name": "stdout",
     "output_type": "stream",
     "text": [
      "3\n",
      "writing the data\n",
      "into this file\n",
      "and closing the file\n"
     ]
    }
   ],
   "source": [
    "n=int(input())\n",
    "for i in range(n):\n",
    "    with open(\"text.txt\",\"w\") as f:\n",
    "        f.write(input())"
   ]
  },
  {
   "cell_type": "code",
   "execution_count": 17,
   "metadata": {},
   "outputs": [
    {
     "name": "stdout",
     "output_type": "stream",
     "text": [
      "3\n",
      "gud mrg\n",
      "h\n",
      "j\n"
     ]
    }
   ],
   "source": [
    "n=int(input())\n",
    "for i in range(n):\n",
    "    with open(\"text.txt\",\"a\") as f:\n",
    "        f.write(input()+\"\\n\")"
   ]
  },
  {
   "cell_type": "code",
   "execution_count": 19,
   "metadata": {},
   "outputs": [
    {
     "name": "stdout",
     "output_type": "stream",
     "text": [
      "and closing the filehii hellohii\n",
      "\n",
      "helo\n",
      "\n",
      "mam\n",
      "\n",
      "gud mrg\n",
      "\n",
      "h\n",
      "\n",
      "j\n",
      "\n"
     ]
    }
   ],
   "source": [
    "with open(\"text.txt\") as f:\n",
    "    data=f.readlines()\n",
    "    for i in data:\n",
    "        print(i)"
   ]
  },
  {
   "cell_type": "code",
   "execution_count": 20,
   "metadata": {},
   "outputs": [
    {
     "data": {
      "text/plain": [
       "60"
      ]
     },
     "execution_count": 20,
     "metadata": {},
     "output_type": "execute_result"
    }
   ],
   "source": [
    "import os\n",
    "n = os.stat(\"text.txt\")\n",
    "n.st_size"
   ]
  },
  {
   "cell_type": "code",
   "execution_count": null,
   "metadata": {},
   "outputs": [],
   "source": []
  }
 ],
 "metadata": {
  "kernelspec": {
   "display_name": "Python 3",
   "language": "python",
   "name": "python3"
  },
  "language_info": {
   "codemirror_mode": {
    "name": "ipython",
    "version": 3
   },
   "file_extension": ".py",
   "mimetype": "text/x-python",
   "name": "python",
   "nbconvert_exporter": "python",
   "pygments_lexer": "ipython3",
   "version": "3.7.3"
  }
 },
 "nbformat": 4,
 "nbformat_minor": 2
}
