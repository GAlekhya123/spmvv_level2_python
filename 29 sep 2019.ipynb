{
 "cells": [
  {
   "cell_type": "markdown",
   "metadata": {},
   "source": [
    "## File Handling\n",
    "- open\n",
    "- read\n",
    "- write\n",
    "- append\n",
    "- close\n",
    "- tell\n",
    "- seek"
   ]
  },
  {
   "cell_type": "markdown",
   "metadata": {},
   "source": [
    "- method1"
   ]
  },
  {
   "cell_type": "code",
   "execution_count": 2,
   "metadata": {},
   "outputs": [
    {
     "name": "stdout",
     "output_type": "stream",
     "text": [
      "Sri padmavtahi mahila visvavidayalayam\n",
      "Womens university\n",
      "tirupathi\n"
     ]
    }
   ],
   "source": [
    "f=open(\"sampledata.txt\",\"r\")#open the file\n",
    "data=f.read()# reading the data\n",
    "print(data)# printing the data\n",
    "f.close()# close the file"
   ]
  },
  {
   "cell_type": "markdown",
   "metadata": {},
   "source": [
    "- Method2"
   ]
  },
  {
   "cell_type": "code",
   "execution_count": 3,
   "metadata": {},
   "outputs": [
    {
     "name": "stdout",
     "output_type": "stream",
     "text": [
      "Sri padmavtahi mahila visvavidayalayam\n",
      "Womens university\n",
      "tirupathi\n"
     ]
    }
   ],
   "source": [
    "with open(\"sampledata.txt\",\"r\") as f:\n",
    "    data=f.read()\n",
    "    print(data)"
   ]
  },
  {
   "cell_type": "code",
   "execution_count": 4,
   "metadata": {},
   "outputs": [
    {
     "name": "stdout",
     "output_type": "stream",
     "text": [
      "sampledata.txt\n",
      "Sri padmavtahi mahila visvavidayalayam\n",
      "Womens university\n",
      "tirupathi\n"
     ]
    }
   ],
   "source": [
    "def readdata(filename):\n",
    "    f=open(filename,\"r\")\n",
    "    data=f.read()\n",
    "    print(data)\n",
    "    f.close()\n",
    "#filename=\"sampledata.txt\"\n",
    "readdata(input())"
   ]
  },
  {
   "cell_type": "code",
   "execution_count": 5,
   "metadata": {},
   "outputs": [],
   "source": [
    "def readdata(filename):\n",
    "    f=open(filename,\"r\")\n",
    "    data=f.read()\n",
    "    f.close()\n",
    "    return data\n"
   ]
  },
  {
   "cell_type": "code",
   "execution_count": 9,
   "metadata": {},
   "outputs": [
    {
     "name": "stdout",
     "output_type": "stream",
     "text": [
      "Sri padmavtahi mahila visvavidayalayam\n",
      "womens university\n",
      "tirupathi\n"
     ]
    }
   ],
   "source": [
    "print(readdata(\"sampledata.txt\").capitalize())"
   ]
  },
  {
   "cell_type": "code",
   "execution_count": 12,
   "metadata": {},
   "outputs": [
    {
     "name": "stdout",
     "output_type": "stream",
     "text": [
      "hii\n"
     ]
    }
   ],
   "source": [
    "with open(\"text.txt\",\"w\") as f:\n",
    "    f.write(input())"
   ]
  },
  {
   "cell_type": "code",
   "execution_count": 13,
   "metadata": {},
   "outputs": [
    {
     "name": "stdout",
     "output_type": "stream",
     "text": [
      "3\n",
      "writing the data\n",
      "into this file\n",
      "and closing the file\n"
     ]
    }
   ],
   "source": [
    "n=int(input())\n",
    "for i in range(n):\n",
    "    with open(\"text.txt\",\"w\") as f:\n",
    "        f.write(input())"
   ]
  },
  {
   "cell_type": "code",
   "execution_count": 17,
   "metadata": {},
   "outputs": [
    {
     "name": "stdout",
     "output_type": "stream",
     "text": [
      "3\n",
      "gud mrg\n",
      "h\n",
      "j\n"
     ]
    }
   ],
   "source": [
    "n=int(input())\n",
    "for i in range(n):\n",
    "    with open(\"text.txt\",\"a\") as f:\n",
    "        f.write(input()+\"\\n\")"
   ]
  },
  {
   "cell_type": "code",
   "execution_count": 19,
   "metadata": {},
   "outputs": [
    {
     "name": "stdout",
     "output_type": "stream",
     "text": [
      "and closing the filehii hellohii\n",
      "\n",
      "helo\n",
      "\n",
      "mam\n",
      "\n",
      "gud mrg\n",
      "\n",
      "h\n",
      "\n",
      "j\n",
      "\n"
     ]
    }
   ],
   "source": [
    "with open(\"text.txt\") as f:\n",
    "    data=f.readlines()\n",
    "    for i in data:\n",
    "        print(i)"
   ]
  },
  {
   "cell_type": "code",
   "execution_count": 20,
   "metadata": {},
   "outputs": [
    {
     "data": {
      "text/plain": [
       "60"
      ]
     },
     "execution_count": 20,
     "metadata": {},
     "output_type": "execute_result"
    }
   ],
   "source": [
    "import os\n",
    "n = os.stat(\"text.txt\")\n",
    "n.st_size"
   ]
  },
  {
   "cell_type": "code",
   "execution_count": 34,
   "metadata": {},
   "outputs": [
    {
     "name": "stdout",
     "output_type": "stream",
     "text": [
      "60\n"
     ]
    }
   ],
   "source": [
    "with open(\"text.txt\") as f:\n",
    "    data=f.read()\n",
    "    print(f.tell())# it gives cursor position"
   ]
  },
  {
   "cell_type": "code",
   "execution_count": 41,
   "metadata": {},
   "outputs": [
    {
     "name": "stdout",
     "output_type": "stream",
     "text": [
      "and closin\n"
     ]
    }
   ],
   "source": [
    "with open(\"text.txt\") as f:\n",
    "    data=f.read()\n",
    "    f.seek(0)# From seek location\n",
    "    print(f.read(10))"
   ]
  },
  {
   "cell_type": "code",
   "execution_count": 45,
   "metadata": {},
   "outputs": [],
   "source": [
    "file='contacts_data.txt'\n",
    "def newcontact(name,contact):\n",
    "    fh = open(file,'a')\n",
    "    fh.write(name+\" \"+str(contact)+\"\\n\")\n",
    "    fh.close()\n",
    "    return 'contact saved'"
   ]
  },
  {
   "cell_type": "code",
   "execution_count": 46,
   "metadata": {},
   "outputs": [
    {
     "data": {
      "text/plain": [
       "'contact saved'"
      ]
     },
     "execution_count": 46,
     "metadata": {},
     "output_type": "execute_result"
    }
   ],
   "source": [
    "newcontact(\"alekhya\",987654321)"
   ]
  },
  {
   "cell_type": "code",
   "execution_count": 47,
   "metadata": {},
   "outputs": [
    {
     "data": {
      "text/plain": [
       "'contact saved'"
      ]
     },
     "execution_count": 47,
     "metadata": {},
     "output_type": "execute_result"
    }
   ],
   "source": [
    "newcontact(\"gireesha\",7654321767)"
   ]
  },
  {
   "cell_type": "code",
   "execution_count": 51,
   "metadata": {},
   "outputs": [
    {
     "name": "stdout",
     "output_type": "stream",
     "text": [
      "987654321\n"
     ]
    }
   ],
   "source": [
    "def readcontact(name):\n",
    "    fh = open(file)\n",
    "    lines = fh.readlines()\n",
    "    \n",
    "    for line in lines:\n",
    "        words = line.split()\n",
    "       \n",
    "        contact_name = words[0]\n",
    "        contact = words[1]\n",
    "        if name == contact_name:\n",
    "            print(contact)\n",
    "            break\n",
    "readcontact(\"alekhya\")"
   ]
  },
  {
   "cell_type": "code",
   "execution_count": null,
   "metadata": {},
   "outputs": [],
   "source": [
    "# read all the contacts"
   ]
  },
  {
   "cell_type": "code",
   "execution_count": 58,
   "metadata": {},
   "outputs": [],
   "source": [
    "from random import randint\n",
    "with open(\"marks.txt\",\"w\") as mf:\n",
    "    for i in range(1000):\n",
    "        mf.write(str(randint(0,100))+\"\\n\")"
   ]
  },
  {
   "cell_type": "code",
   "execution_count": null,
   "metadata": {},
   "outputs": [],
   "source": [
    "# write a function to calculate highest marks from marks.txt file\n",
    "# avg\n",
    "# Pass %\n",
    "# faill %\n",
    "# Distinction %"
   ]
  },
  {
   "cell_type": "code",
   "execution_count": 108,
   "metadata": {},
   "outputs": [],
   "source": [
    "def classreport(file_name):\n",
    "    with open(file_name,'r') as mf:\n",
    "        data = mf.read().split()\n",
    "        marks_list = list(map(int,data))\n",
    "        print(sum(marks_list),len(marks_list))\n",
    "        avg = sum(marks_list)/len(marks_list)\n",
    "        print(\"Average of overal marks : \",avg)\n",
    "        fc = 0 \n",
    "        passc = 0\n",
    "        dc = 0\n",
    "        for ele in marks_list:\n",
    "            if ele >=0 and ele < 35:\n",
    "                fc += 1\n",
    "            if ele >= 75:\n",
    "                dc += 1\n",
    "            if ele >= 35:\n",
    "                passc += 1\n",
    "        print(passc,fc,dc)\n",
    "        print(\"Pass % :\",(passc/len(marks_list))*100)"
   ]
  },
  {
   "cell_type": "code",
   "execution_count": 109,
   "metadata": {},
   "outputs": [
    {
     "name": "stdout",
     "output_type": "stream",
     "text": [
      "50114 1000\n",
      "Average of overal marks :  50.114\n",
      "653 347 257\n",
      "Pass % : 65.3\n"
     ]
    }
   ],
   "source": [
    "classreport('marks.txt')"
   ]
  },
  {
   "cell_type": "code",
   "execution_count": null,
   "metadata": {},
   "outputs": [],
   "source": [
    "import re \n"
   ]
  }
 ],
 "metadata": {
  "kernelspec": {
   "display_name": "Python 3",
   "language": "python",
   "name": "python3"
  },
  "language_info": {
   "codemirror_mode": {
    "name": "ipython",
    "version": 3
   },
   "file_extension": ".py",
   "mimetype": "text/x-python",
   "name": "python",
   "nbconvert_exporter": "python",
   "pygments_lexer": "ipython3",
   "version": "3.7.3"
  }
 },
 "nbformat": 4,
 "nbformat_minor": 2
}
